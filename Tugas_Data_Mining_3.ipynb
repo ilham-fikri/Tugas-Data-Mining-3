{
  "nbformat": 4,
  "nbformat_minor": 0,
  "metadata": {
    "colab": {
      "name": "Tugas Data Mining 3.ipynb",
      "provenance": [],
      "authorship_tag": "ABX9TyNqCqFubuMOxhrF5AubDW0F",
      "include_colab_link": true
    },
    "kernelspec": {
      "name": "python3",
      "display_name": "Python 3"
    },
    "language_info": {
      "name": "python"
    }
  },
  "cells": [
    {
      "cell_type": "markdown",
      "metadata": {
        "id": "view-in-github",
        "colab_type": "text"
      },
      "source": [
        "<a href=\"https://colab.research.google.com/github/ilham-fikri/Tugas-Data-Mining-3/blob/main/Tugas_Data_Mining_3.ipynb\" target=\"_parent\"><img src=\"https://colab.research.google.com/assets/colab-badge.svg\" alt=\"Open In Colab\"/></a>"
      ]
    },
    {
      "cell_type": "code",
      "metadata": {
        "id": "0VxVReXLp0nG"
      },
      "source": [
        "import numpy as np\n",
        "import matplotlib.pyplot as plt\n",
        "import pandas as pd\n",
        "\n",
        "dataset = pd.read_csv('Barubuat.csv')\n",
        "x = dataset.iloc[:, :-1].values\n",
        "y = dataset.iloc[:, -1].values"
      ],
      "execution_count": null,
      "outputs": []
    },
    {
      "cell_type": "code",
      "metadata": {
        "colab": {
          "base_uri": "https://localhost:8080/"
        },
        "id": "0pOGNkVRqEpn",
        "outputId": "bf374da6-7510-45cd-cb3f-b78895361ed9"
      },
      "source": [
        "print(x)"
      ],
      "execution_count": null,
      "outputs": [
        {
          "output_type": "stream",
          "text": [
            "[['Biologi' 24.0 10.0]\n",
            " ['Fisika' 25.0 12.0]\n",
            " ['Olahraga' 23.0 10.0]\n",
            " ['Agama' 40.0 16.0]\n",
            " ['Olahraga' 20.0 8.0]\n",
            " ['Agama' 35.0 11.0]\n",
            " ['Biologi' 38.0 nan]\n",
            " ['Matematika' nan 18.0]\n",
            " ['Fisika' 12.0 19.0]\n",
            " ['Agama' 29.0 20.0]\n",
            " ['Matematika' 31.0 9.0]\n",
            " ['Fisika' nan 8.0]\n",
            " ['Biologi' 22.0 nan]]\n"
          ],
          "name": "stdout"
        }
      ]
    },
    {
      "cell_type": "code",
      "metadata": {
        "colab": {
          "base_uri": "https://localhost:8080/"
        },
        "id": "s8fEogLfrRfn",
        "outputId": "1050d8ca-0c3a-4f2c-a79f-2a47d003e628"
      },
      "source": [
        "print(y)"
      ],
      "execution_count": null,
      "outputs": [
        {
          "output_type": "stream",
          "text": [
            "['No' 'Yes' 'Yes' 'Yes' 'No' 'No' 'Yes' 'Yes' 'No' 'No' 'Yes' 'No' 'Yes']\n"
          ],
          "name": "stdout"
        }
      ]
    },
    {
      "cell_type": "code",
      "metadata": {
        "id": "IdrWD0VgqWIC"
      },
      "source": [
        "from sklearn.impute import SimpleImputer\n",
        "imputer = SimpleImputer(missing_values=np.nan, strategy='mean')\n",
        "imputer.fit(x[:, 1:3])\n",
        "x[:, 1:3] = imputer.transform(x[:, 1:3])"
      ],
      "execution_count": null,
      "outputs": []
    },
    {
      "cell_type": "code",
      "metadata": {
        "colab": {
          "base_uri": "https://localhost:8080/"
        },
        "id": "ea2Ye4xztMnL",
        "outputId": "fdcbcdaf-e8b2-49e3-c07a-7177760ba0cc"
      },
      "source": [
        "print(x)"
      ],
      "execution_count": null,
      "outputs": [
        {
          "output_type": "stream",
          "text": [
            "[['Biologi' 24.0 10.0]\n",
            " ['Fisika' 25.0 12.0]\n",
            " ['Olahraga' 23.0 10.0]\n",
            " ['Agama' 40.0 16.0]\n",
            " ['Olahraga' 20.0 8.0]\n",
            " ['Agama' 35.0 11.0]\n",
            " ['Biologi' 38.0 12.818181818181818]\n",
            " ['Matematika' 27.181818181818183 18.0]\n",
            " ['Fisika' 12.0 19.0]\n",
            " ['Agama' 29.0 20.0]\n",
            " ['Matematika' 31.0 9.0]\n",
            " ['Fisika' 27.181818181818183 8.0]\n",
            " ['Biologi' 22.0 12.818181818181818]]\n"
          ],
          "name": "stdout"
        }
      ]
    },
    {
      "cell_type": "code",
      "metadata": {
        "id": "DcYXL6wXtiNC"
      },
      "source": [
        "from sklearn.compose import ColumnTransformer\n",
        "from sklearn.preprocessing import OneHotEncoder\n",
        "ct = ColumnTransformer(transformers=[('encoder',OneHotEncoder(),[0])], remainder='passthrough')\n",
        "x = np.array(ct.fit_transform(x))"
      ],
      "execution_count": null,
      "outputs": []
    },
    {
      "cell_type": "code",
      "metadata": {
        "colab": {
          "base_uri": "https://localhost:8080/"
        },
        "id": "AsL3xZx0tmj7",
        "outputId": "499bcfcb-e0a6-42c3-899a-3779b56ec6a7"
      },
      "source": [
        "print(x)"
      ],
      "execution_count": null,
      "outputs": [
        {
          "output_type": "stream",
          "text": [
            "[[0.0 1.0 0.0 0.0 0.0 24.0 10.0]\n",
            " [0.0 0.0 1.0 0.0 0.0 25.0 12.0]\n",
            " [0.0 0.0 0.0 0.0 1.0 23.0 10.0]\n",
            " [1.0 0.0 0.0 0.0 0.0 40.0 16.0]\n",
            " [0.0 0.0 0.0 0.0 1.0 20.0 8.0]\n",
            " [1.0 0.0 0.0 0.0 0.0 35.0 11.0]\n",
            " [0.0 1.0 0.0 0.0 0.0 38.0 12.818181818181818]\n",
            " [0.0 0.0 0.0 1.0 0.0 27.181818181818183 18.0]\n",
            " [0.0 0.0 1.0 0.0 0.0 12.0 19.0]\n",
            " [1.0 0.0 0.0 0.0 0.0 29.0 20.0]\n",
            " [0.0 0.0 0.0 1.0 0.0 31.0 9.0]\n",
            " [0.0 0.0 1.0 0.0 0.0 27.181818181818183 8.0]\n",
            " [0.0 1.0 0.0 0.0 0.0 22.0 12.818181818181818]]\n"
          ],
          "name": "stdout"
        }
      ]
    },
    {
      "cell_type": "code",
      "metadata": {
        "id": "IHC65H3WtrNP"
      },
      "source": [
        "from sklearn.preprocessing import LabelEncoder\n",
        "le = LabelEncoder()\n",
        "y = le.fit_transform(y)"
      ],
      "execution_count": null,
      "outputs": []
    },
    {
      "cell_type": "code",
      "metadata": {
        "colab": {
          "base_uri": "https://localhost:8080/"
        },
        "id": "Q6ja-yLptutK",
        "outputId": "60872b1a-990c-4f41-d575-308cdf9adcfe"
      },
      "source": [
        "print(y)"
      ],
      "execution_count": null,
      "outputs": [
        {
          "output_type": "stream",
          "text": [
            "[0 1 1 1 0 0 1 1 0 0 1 0 1]\n"
          ],
          "name": "stdout"
        }
      ]
    },
    {
      "cell_type": "code",
      "metadata": {
        "id": "VjdhavjkuATz"
      },
      "source": [
        "from sklearn.model_selection import train_test_split\n",
        "x_train, x_test, y_train, y_test = train_test_split(x, y, test_size=0.2, random_state=1)"
      ],
      "execution_count": null,
      "outputs": []
    },
    {
      "cell_type": "code",
      "metadata": {
        "colab": {
          "base_uri": "https://localhost:8080/"
        },
        "id": "VRzcp-DOuDSA",
        "outputId": "5c5dc2d5-1ea0-498c-a441-9aef6adc3b61"
      },
      "source": [
        "print(x_train)"
      ],
      "execution_count": null,
      "outputs": [
        {
          "output_type": "stream",
          "text": [
            "[[0.0 0.0 0.0 1.0 0.0 31.0 9.0]\n",
            " [0.0 0.0 1.0 0.0 0.0 25.0 12.0]\n",
            " [0.0 1.0 0.0 0.0 0.0 38.0 12.818181818181818]\n",
            " [0.0 1.0 0.0 0.0 0.0 24.0 10.0]\n",
            " [0.0 0.0 0.0 1.0 0.0 27.181818181818183 18.0]\n",
            " [0.0 1.0 0.0 0.0 0.0 22.0 12.818181818181818]\n",
            " [1.0 0.0 0.0 0.0 0.0 29.0 20.0]\n",
            " [0.0 0.0 1.0 0.0 0.0 12.0 19.0]\n",
            " [0.0 0.0 1.0 0.0 0.0 27.181818181818183 8.0]\n",
            " [1.0 0.0 0.0 0.0 0.0 35.0 11.0]]\n"
          ],
          "name": "stdout"
        }
      ]
    },
    {
      "cell_type": "code",
      "metadata": {
        "colab": {
          "base_uri": "https://localhost:8080/"
        },
        "id": "eNyUjwBnw4DX",
        "outputId": "18a680b1-ce0e-486c-e32b-367d1119ddf8"
      },
      "source": [
        "print(x_test)"
      ],
      "execution_count": null,
      "outputs": [
        {
          "output_type": "stream",
          "text": [
            "[[0.0 0.0 0.0 0.0 1.0 23.0 10.0]\n",
            " [1.0 0.0 0.0 0.0 0.0 40.0 16.0]\n",
            " [0.0 0.0 0.0 0.0 1.0 20.0 8.0]]\n"
          ],
          "name": "stdout"
        }
      ]
    },
    {
      "cell_type": "code",
      "metadata": {
        "colab": {
          "base_uri": "https://localhost:8080/"
        },
        "id": "bmyk7ricxFTh",
        "outputId": "0370beb9-471c-4347-8de2-f857c2d8b960"
      },
      "source": [
        "print(y_train)"
      ],
      "execution_count": null,
      "outputs": [
        {
          "output_type": "stream",
          "text": [
            "[1 1 1 0 1 1 0 0 0 0]\n"
          ],
          "name": "stdout"
        }
      ]
    },
    {
      "cell_type": "code",
      "metadata": {
        "colab": {
          "base_uri": "https://localhost:8080/"
        },
        "id": "lIf4nMgMxLYy",
        "outputId": "3874a9c3-5c55-4707-84df-73288be587e7"
      },
      "source": [
        "print(y_test)"
      ],
      "execution_count": null,
      "outputs": [
        {
          "output_type": "stream",
          "text": [
            "[1 1 0]\n"
          ],
          "name": "stdout"
        }
      ]
    },
    {
      "cell_type": "code",
      "metadata": {
        "id": "vZ2VJq8cxR6v"
      },
      "source": [
        "from sklearn.preprocessing import StandardScaler\n",
        "sc = StandardScaler()\n",
        "x_train[:, 4:] = sc.fit_transform(x_train[:, 4:])\n",
        "x_test[:, 4:] = sc.transform(x_test[:, 4:])"
      ],
      "execution_count": null,
      "outputs": []
    },
    {
      "cell_type": "code",
      "metadata": {
        "colab": {
          "base_uri": "https://localhost:8080/"
        },
        "id": "GckEZi6BxToS",
        "outputId": "859110ac-9933-4522-db33-edbb7cb5258f"
      },
      "source": [
        "print(x_train)"
      ],
      "execution_count": null,
      "outputs": [
        {
          "output_type": "stream",
          "text": [
            "[[0.0 0.0 0.0 1.0 0.0 0.5793571050062895 -1.0516408817475782]\n",
            " [0.0 0.0 1.0 0.0 0.0 -0.2976513567004795 -0.3116803466160197]\n",
            " [0.0 1.0 0.0 0.0 0.0 1.6025336436641864 -0.1098729279437764]\n",
            " [0.0 1.0 0.0 0.0 0.0 -0.44381943365160764 -0.8049873700370587]\n",
            " [0.0 0.0 0.0 1.0 0.0 0.021260811192891246 1.1682407236470973]\n",
            " [0.0 1.0 0.0 0.0 0.0 -0.736155587553864 -0.1098729279437764]\n",
            " [1.0 0.0 0.0 0.0 0.0 0.2870209511040331 1.6615477470681363]\n",
            " [0.0 0.0 1.0 0.0 0.0 -2.1978363570651456 1.4148942353576168]\n",
            " [0.0 0.0 1.0 0.0 0.0 0.021260811192891246 -1.2982943934580977]\n",
            " [1.0 0.0 0.0 0.0 0.0 1.164029412810802 -0.5583338583265391]]\n"
          ],
          "name": "stdout"
        }
      ]
    },
    {
      "cell_type": "code",
      "metadata": {
        "colab": {
          "base_uri": "https://localhost:8080/"
        },
        "id": "HoWv6fcrxaOu",
        "outputId": "12c9bc71-79be-423d-bbf6-2a4936dd83cb"
      },
      "source": [
        "print(x_test)"
      ],
      "execution_count": null,
      "outputs": [
        {
          "output_type": "stream",
          "text": [
            "[[0.0 0.0 0.0 0.0 1.0 -0.5899875106027358 -0.8049873700370587]\n",
            " [1.0 0.0 0.0 0.0 0.0 1.8948697975664428 0.6749337002260584]\n",
            " [0.0 0.0 0.0 0.0 1.0 -1.0284917414561203 -1.2982943934580977]]\n"
          ],
          "name": "stdout"
        }
      ]
    }
  ]
}